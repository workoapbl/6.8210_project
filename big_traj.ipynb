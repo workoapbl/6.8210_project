{
  "cells": [
    {
      "cell_type": "markdown",
      "source": "Code for big trajectory optimization -- working off of PSET with planning around asteroids",
      "metadata": {
        "cell_id": "d6cee8bc73824ff0ab2b23306d1a8e79",
        "deepnote_cell_type": "markdown"
      },
      "block_group": "68a5bf2365824797ae8afe3854a35323"
    },
    {
      "cell_type": "code",
      "source": "import numpy as np\nfrom functools import partial\n\nfrom pydrake.all import (\n    AddDefaultVisualization,\n    DiscreteContactApproximation,\n    PidController,\n    RobotDiagramBuilder,\n    Simulator,\n    StartMeshcat,\n    AddMultibodyPlantSceneGraph,\n    AddUnitQuaternionConstraintOnPlant,\n    AutoDiffXd,\n    DiagramBuilder,\n    ExtractGradient,\n    ExtractValue,\n    InitializeAutoDiff,\n    JacobianWrtVariable,\n    JointIndex,\n    MathematicalProgram,\n    MeshcatVisualizer,\n    OrientationConstraint,\n    Parser,\n    PiecewisePolynomial,\n    PositionConstraint,\n    RotationMatrix,\n    SnoptSolver,\n    Solve,\n    eq,\n    namedview,\n)\n\nimport matplotlib.pyplot as plt\nfrom underactuated import ConfigureParser, running_as_notebook\nfrom underactuated.multibody import MakePidStateProjectionMatrix    \n",
      "metadata": {
        "source_hash": null,
        "execution_start": 1715912108216,
        "execution_millis": 1339,
        "deepnote_to_be_reexecuted": false,
        "cell_id": "0e8cc5ef50e24e12b2a601de0ccb51bb",
        "deepnote_cell_type": "code"
      },
      "outputs": [],
      "outputs_reference": null,
      "execution_count": null,
      "block_group": "0e8cc5ef50e24e12b2a601de0ccb51bb",
      "content_dependencies": null
    },
    {
      "cell_type": "code",
      "source": "#meshcat + create prog\nmeshcat = StartMeshcat()",
      "metadata": {
        "cell_id": "9e7d1716306d4d2695098968260a4fd0",
        "deepnote_cell_type": "code"
      },
      "outputs": [],
      "outputs_reference": null,
      "execution_count": null,
      "block_group": "a78bb5fa70db41779afdf0573521e411",
      "content_dependencies": null
    },
    {
      "cell_type": "code",
      "source": "prog = MathematicalProgram() \nN = 150",
      "metadata": {
        "source_hash": null,
        "execution_start": 1715912112141,
        "execution_millis": 123,
        "deepnote_to_be_reexecuted": false,
        "cell_id": "72eb64e42b18445bb6d478422395212a",
        "deepnote_cell_type": "code"
      },
      "outputs": [],
      "outputs_reference": null,
      "execution_count": null,
      "block_group": "72d8b1ae4d7a4e7998b375d9f18ce044",
      "content_dependencies": null
    },
    {
      "cell_type": "code",
      "source": "#define dynamics\ncom = prog.NewContinuousVariables(3, N, \"com\")\ncomdot = prog.NewContinuousVariables(3, N, \"comdot\")\ncomddot = prog.NewContinuousVariables(3, N - 1, \"comddot\")",
      "metadata": {
        "source_hash": null,
        "execution_start": 1715912113541,
        "execution_millis": 70,
        "deepnote_to_be_reexecuted": false,
        "cell_id": "0ee1b7a6d0244429908e9a0f2ad8e457",
        "deepnote_cell_type": "code"
      },
      "outputs": [],
      "outputs_reference": null,
      "execution_count": null,
      "block_group": "cccb69a40c95440cb41706a0eed178f4",
      "content_dependencies": null
    },
    {
      "cell_type": "code",
      "source": "class Spot:\n    \"\"\"stores state of spot\"\"\"\n    def __init__(self):\n        self.com = None\n        self.comdot = None\n        self.comdotdot = None\n        self.context = None\n    \n    def set_states(self, state_dict):\n        self.com = state_dict['com']\n        self.comdot = state_dict['comdot']\n        self.comddot = state_dict['comddot']\n        self.context = state_dict['context']\n",
      "metadata": {
        "source_hash": null,
        "execution_start": 1715912115323,
        "execution_millis": 107,
        "deepnote_to_be_reexecuted": false,
        "cell_id": "eeeb33451e3340b3a28b28c1452997b8",
        "deepnote_cell_type": "code"
      },
      "outputs": [],
      "outputs_reference": null,
      "execution_count": null,
      "block_group": "a6dbea5f7ced4ffe8babc83afa1f7ca4",
      "content_dependencies": null
    },
    {
      "cell_type": "code",
      "source": "class Obstacle:\n    \"\"\"obstacle w/ location and radius\"\"\"\n    def __init__(self, x, y, rad):\n        self.pos = (x, y)\n        self.rad = rad",
      "metadata": {
        "source_hash": null,
        "execution_start": 1715912117806,
        "execution_millis": 65,
        "deepnote_to_be_reexecuted": false,
        "cell_id": "69a91a83aa1b4b04aa540357221e05af",
        "deepnote_cell_type": "code"
      },
      "outputs": [],
      "outputs_reference": null,
      "execution_count": null,
      "block_group": "532bc7c3303347108cdbdeaaea44e76a",
      "content_dependencies": null
    },
    {
      "cell_type": "code",
      "source": "traj_prog = MathematicalProgram()\ntime_steps = 150\n\nposition = traj_prog.NewContinuousVariables(time_steps + 1, 2, \"position\")\nvelocity = traj_prog.NewContinuousVariables(time_steps + 1, 2, \"velocity\")\nacceleration = traj_prog.NewContinuousVariables(time_steps + 1, 2, \"acceleration\")\n\nclass Environment:\n    \"\"\"environment w/ multiple obstacles\"\"\"\n    def __init__(self, goal, N=50):\n        self.obstacles = []\n        self.spot_rad = 0.8 #implement radius from spot CoM to be away from obstacle\n        self.N = N #num_timesteps\n        self.goal = goal\n        \n    def add_obstacle(self, obs):\n        \"\"\"adds obstacle\"\"\"\n        if self.distance_from(obs.pos) > obs.rad:\n            if obs.pos[0] >= 5 and obs.pos[0] <= 60:\n                self.obstacles.append(obs)\n    \n    def _residuals(self, obs, n):\n        return position[n, :] - obs.pos\n\n    def generate_constraints(self):\n        \"\"\"generates necessary constraints for obstacles\"\"\"\n        for obs in self.obstacles:\n            for n in range(self.N):\n                residual = self._residuals(obs, n)\n                traj_prog.AddConstraint(residual[0]**2 + residual[1]**2 >= (obs.rad + self.spot_rad)**2)\n    \n    def _euclidean_dist(self, pos1, pos2):\n        x1, y1 = pos1 \n        x2, y2 = pos2\n        return ((x1 - x2)**2 + (y1 - y2)**2)**0.5\n\n    def distance_from(self, point):\n        \"\"\"calculates distance of given point from nearest obstacle\"\"\"\n        if not self.obstacles:\n            return np.inf\n        \n        distances = [self._euclidean_dist(obs.pos, point) for obs in self.obstacles]\n        return min(distances)  \n\n    ",
      "metadata": {
        "source_hash": null,
        "execution_start": 1715912119716,
        "execution_millis": 76,
        "deepnote_to_be_reexecuted": false,
        "cell_id": "fd2df50929604b12a67983cc4bc14f3f",
        "deepnote_cell_type": "code"
      },
      "outputs": [],
      "outputs_reference": null,
      "execution_count": null,
      "block_group": "3983616e53fb4e2cac221d11732e6e9e",
      "content_dependencies": null
    },
    {
      "cell_type": "code",
      "source": "#visualization helpers\n\ndef plot_circle(center, radius, *args, **kwargs):\n    \"\"\"taken from orbital transfer notebook\"\"\"\n    # discretize angle\n    angle = np.linspace(0, 2 * np.pi)\n\n    # plot circle\n    plt.plot(\n        center[0] + radius * np.cos(angle),\n        center[1] + radius * np.sin(angle),\n        *args,\n        **kwargs\n    )\n\ndef plot_env(env):\n    for obs in env.obstacles:\n        plt.scatter(*obs.pos, s=10, c='red')\n        \n        plot_circle(obs.pos, obs.rad, color = 'red', linestyle='--', linewidth = 0.5)\n        plot_circle(obs.pos, obs.rad + env.spot_rad, color='blue', linestyle='--', linewidth = 0.5)\n    plt.scatter(*env.goal, s=50, c='purple')\n    plt.scatter(0, 0, s=50, c='purple')\n    plt.grid(True)\n    plt.gca().set_aspect(\"equal\")\n    ax = plt.gca()\n    ax.set_xlim([0, 100])\n    ax.set_ylim([-50, 50])\n\ndef plot_trajectory(trajectory):\n    plt.plot(trajectory.T[0], trajectory.T[1], color=\"k\", label=\"Rocket trajectory\")\n    plt.scatter(trajectory[0, 0], trajectory[0, 1], color=\"k\")\n",
      "metadata": {
        "source_hash": null,
        "execution_start": 1715912122400,
        "execution_millis": 73,
        "deepnote_to_be_reexecuted": false,
        "cell_id": "a2c50ab9304c44c08f631977958802b5",
        "deepnote_cell_type": "code"
      },
      "outputs": [],
      "outputs_reference": null,
      "execution_count": null,
      "block_group": "e81b7cbdc3844ea9982863758990694d",
      "content_dependencies": null
    },
    {
      "cell_type": "code",
      "source": "#add obstacles\nobs1 = Obstacle(30, 3, 6)\nobs2 = Obstacle(20, -10, 2)\nobs3 = Obstacle(40, -25, 2)\nobs4 = Obstacle(40, -8, 4)\nobs5 = Obstacle(60, 0, 5)\nenv = Environment((80, 0), N=time_steps)\nenv.add_obstacle(obs1)\nenv.add_obstacle(obs2)\nenv.add_obstacle(obs3)\nenv.add_obstacle(obs4)\nenv.add_obstacle(obs5)\nplot_env(env)\nplt.figure()",
      "metadata": {
        "source_hash": null,
        "execution_start": 1715912124300,
        "execution_millis": 252,
        "deepnote_to_be_reexecuted": false,
        "cell_id": "82c5f3d0b76c42d993ee3e6eab805593",
        "deepnote_cell_type": "code"
      },
      "outputs": [],
      "outputs_reference": null,
      "execution_count": null,
      "block_group": "9d1c88fc6046478a9912cbcc288c953b",
      "content_dependencies": null
    },
    {
      "cell_type": "code",
      "source": "#build initial guess\ndef built_init_guess(pos_init, pos_final, time_steps, h):\n    np.random.seed(0)\n\n    time_limits = [0.0, time_steps * h]\n    position_limits = np.column_stack((pos_init, pos_final))\n    state_limits = np.vstack((position_limits, np.zeros((2, 2))))\n\n    # linear interpolation in state\n    state = PiecewisePolynomial.FirstOrderHold(time_limits, state_limits)\n\n    # sample state on the time grid and add small random noise\n    state_guess = np.vstack(\n        [state.value(t * h).T for t in range(time_steps + 1)]\n    )\n    state_guess += np.random.rand(*state_guess.shape) * 5e-6\n\n    return state_guess",
      "metadata": {
        "source_hash": null,
        "execution_start": 1715912127174,
        "execution_millis": 38,
        "deepnote_to_be_reexecuted": false,
        "cell_id": "d93c6eb8932843fb8355cda5d35e072c",
        "deepnote_cell_type": "code"
      },
      "outputs": [],
      "outputs_reference": null,
      "execution_count": null,
      "block_group": "762a41f360374106b995bf3cef3bafe7",
      "content_dependencies": null
    },
    {
      "cell_type": "code",
      "source": "#optimization to find trajectory (minimize need to change direction --> goal is to have primarily straight sections)\nh = 0.05\nend_goal = env.goal\n\n#starting and ending position constraint\n\n#euler dynamics constraint\nfor ts in range(time_steps):\n    traj_prog.AddConstraint(eq(position[ts + 1, :], position[ts, :] + h * velocity[ts, :]))\n    traj_prog.AddConstraint(eq(velocity[ts + 1, :], velocity[ts, :] + h * acceleration[ts, :]))\n\nfor n in [0, 1]:\n    traj_prog.AddLinearConstraint(position[0, n] == 0) #start at origin\n    traj_prog.AddLinearConstraint(velocity[0, n] == 0)\n\n\ntraj_prog.AddLinearConstraint(position[-1, 0] == end_goal[0]) #end at (80, 0)\ntraj_prog.AddLinearConstraint(position[-1, 1] == end_goal[1])\n\nfor n in [0, 1]:\n    traj_prog.AddLinearConstraint(velocity[-1, n] == 0)\n    traj_prog.AddLinearConstraint(acceleration[-1, n] == 0)\n\nenv.generate_constraints()\n\n\ntraj_prog.AddBoundingBoxConstraint(0, 80, position[n, 0])\ntraj_prog.AddBoundingBoxConstraint(-50, 50, position[n, 1])\n\n\n#bounding box on velocity\n\ntraj_prog.AddBoundingBoxConstraint(-1, 1, acceleration[ts, n])\n\n#set initial guess\nstart = (0, 0)\nguess = built_init_guess(start, end_goal, time_steps, h)\ntraj_prog.SetInitialGuess(position, guess[:, :2])\ntraj_prog.SetInitialGuess(velocity, guess[:, 2:])\n\ntraj_prog.AddCost(h*sum(t.dot(t) for t in acceleration))\n\nstep_dist = []\nfor n in range(1, N):\n    x_dist = (position[n, 0]-position[n-1, 0])**2\n    y_dist = (position[n, 1]-position[n-1, 1])**2\n    step_dist.append(x_dist + y_dist)\ntraj_prog.AddCost(sum(step_dist))\ntraj_prog.AddCost(8*time_steps/5*sum(pos**2 for pos in position[:time_steps//3, 1]))\n\n# start_dist = []\n# for n in range(1, N):\n#     x_dist = (position[n, 0]-start[0])**2\n#     y_dist = (position[n, 1]-start[1])**2\n#     start_dist.append(x_dist + y_dist)\n# traj_prog.AddCost(sum(start_dist))\n\n# goal_dist = []\n# for n in range(0, N):\n#     x_dist = (position[n, 0]-end_goal[0])**2\n#     y_dist = (position[n, 1]-end_goal[1])**2\n#     goal_dist.append(x_dist + y_dist)\n# traj_prog.AddCost(sum(goal_dist))",
      "metadata": {
        "source_hash": null,
        "execution_start": 1715912128643,
        "execution_millis": 218,
        "deepnote_to_be_reexecuted": false,
        "cell_id": "c5c266b4dcd1438dbebc90e4b6c51ce5",
        "deepnote_cell_type": "code"
      },
      "outputs": [],
      "outputs_reference": null,
      "execution_count": null,
      "block_group": "1a8f3fb048144597b6c3075096acab04",
      "content_dependencies": null
    },
    {
      "cell_type": "code",
      "source": "snopt = SnoptSolver()\n\nresult = snopt.Solve(traj_prog)\nprint(result.is_success())\npositions = result.GetSolution(position)\nvelocities = result.GetSolution(velocity)\n\nplot_trajectory(positions)\nplot_env(env)\nplt.figure()",
      "metadata": {
        "source_hash": null,
        "execution_start": 1715912186018,
        "execution_millis": 234,
        "deepnote_to_be_reexecuted": false,
        "cell_id": "fb1673cdf433490cb437089dd1bd65e4",
        "deepnote_cell_type": "code"
      },
      "outputs": [],
      "outputs_reference": null,
      "execution_count": null,
      "block_group": "2e198af74d1c41598472376ebb05de40",
      "content_dependencies": null
    },
    {
      "cell_type": "code",
      "source": "#find trajectory waypoints, may need waypoint class \n#instantiate trajectory\n#generate trajectory\nfoward_break = None\nfor pos in positions:\n    if abs(pos[1]) > 1:\n        forward_break = pos[0]\n        break\nprint(forward_break)\nfar_len = 0\nfar_obs = None\nfor obs in env.obstacles:\n    if obs.pos[0] > far_len:\n        far_obs = obs\n        far_len = obs.pos[0]\n\nsplit_point = far_len + far_obs.rad\nprint(split_point)",
      "metadata": {
        "source_hash": null,
        "execution_start": 1715912503770,
        "execution_millis": 49,
        "deepnote_to_be_reexecuted": false,
        "cell_id": "61399c5855b54112864fb65b90d025d0",
        "deepnote_cell_type": "code"
      },
      "outputs": [],
      "outputs_reference": null,
      "execution_count": null,
      "block_group": "e4bfb493d579462e9c9ad8446a8d052b",
      "content_dependencies": null
    },
    {
      "cell_type": "code",
      "source": "#animate trajectory",
      "metadata": {
        "source_hash": null,
        "execution_start": 1715549391378,
        "execution_millis": 160,
        "deepnote_to_be_reexecuted": true,
        "cell_id": "8d1f3b214c9540bbb34ada1070658c07",
        "deepnote_cell_type": "code"
      },
      "outputs": [],
      "outputs_reference": null,
      "execution_count": null,
      "block_group": "9c58315d11cc4604bafc72e2a87a24c9",
      "content_dependencies": null
    },
    {
      "cell_type": "markdown",
      "source": "<a style='text-decoration:none;line-height:16px;display:flex;color:#5B5B62;padding:10px;justify-content:end;' href='https://deepnote.com?utm_source=created-in-deepnote-cell&projectId=545d651b-e7e0-4cf4-bfbe-97d6a3f869f8' target=\"_blank\">\n<img alt='Created in deepnote.com' style='display:inline;max-height:16px;margin:0px;margin-right:7.5px;' src='data:image/svg+xml;base64,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' > </img>\nCreated in <span style='font-weight:600;margin-left:4px;'>Deepnote</span></a>",
      "metadata": {
        "created_in_deepnote_cell": true,
        "deepnote_cell_type": "markdown"
      }
    }
  ],
  "nbformat": 4,
  "nbformat_minor": 0,
  "metadata": {
    "deepnote_persisted_session": {
      "createdAt": "2024-05-17T04:15:20.447Z"
    },
    "deepnote_notebook_id": "23dff877be994a51aed76c12be03e721",
    "deepnote_execution_queue": []
  }
}