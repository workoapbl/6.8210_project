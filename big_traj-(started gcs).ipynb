{
  "cells": [
    {
      "cell_type": "markdown",
      "source": "Big trajectory with GCS",
      "metadata": {
        "cell_id": "1b7d75b97e304cc5bbe51e9a16652afc",
        "deepnote_cell_type": "markdown"
      },
      "block_group": "283b57e80e794545bd059ddecfee9371"
    },
    {
      "cell_type": "code",
      "source": "import numpy as np\nfrom functools import partial\n\nfrom pydrake.all import (\n    AddDefaultVisualization,\n    DiscreteContactApproximation,\n    PidController,\n    RobotDiagramBuilder,\n    Simulator,\n    StartMeshcat,\n    AddMultibodyPlantSceneGraph,\n    AddUnitQuaternionConstraintOnPlant,\n    AutoDiffXd,\n    DiagramBuilder,\n    ExtractGradient,\n    ExtractValue,\n    InitializeAutoDiff,\n    JacobianWrtVariable,\n    JointIndex,\n    MathematicalProgram,\n    MeshcatVisualizer,\n    OrientationConstraint,\n    Parser,\n    PiecewisePolynomial,\n    PositionConstraint,\n    RotationMatrix,\n    SnoptSolver,\n    Solve,\n    eq,\n    namedview, \n    GraphOfConvexSets, \n    GraphOfConvexSetsOptions, \n    HPolyhedron, \n    Point\n)\nfrom pydrake.solvers import ClarabelSolver\nfrom matplotlib.patches import Rectangle\nimport matplotlib.pyplot as plt\nfrom underactuated import ConfigureParser, running_as_notebook\nfrom underactuated.multibody import MakePidStateProjectionMatrix    \n",
      "metadata": {
        "source_hash": null,
        "execution_start": 1715677835074,
        "execution_millis": 1523,
        "deepnote_to_be_reexecuted": false,
        "cell_id": "20f0dd8637264fd9b33001c49ad62265",
        "deepnote_cell_type": "code"
      },
      "outputs": [],
      "outputs_reference": null,
      "execution_count": null,
      "block_group": "0e8cc5ef50e24e12b2a601de0ccb51bb",
      "content_dependencies": null
    },
    {
      "cell_type": "code",
      "source": "#meshcat + create prog\nmeshcat = StartMeshcat()",
      "metadata": {
        "source_hash": null,
        "execution_start": 1715677815361,
        "execution_millis": 129,
        "deepnote_to_be_reexecuted": false,
        "cell_id": "d70cf93ffe1a4bb7ba1f5bcd4fffea32",
        "deepnote_cell_type": "code"
      },
      "outputs": [],
      "outputs_reference": null,
      "execution_count": null,
      "block_group": "dbb5efd7f1034bebb5d9495427034548",
      "content_dependencies": null
    },
    {
      "cell_type": "code",
      "source": "class Spot:\n    \"\"\"stores state of spot\"\"\"\n    def __init__(self):\n        self.com = None\n        self.comdot = None\n        self.comdotdot = None\n        self.context = None\n    \n    def set_states(self, state_dict):\n        self.com = state_dict['com']\n        self.comdot = state_dict['comdot']\n        self.comddot = state_dict['comddot']\n        self.context = state_dict['context']\n",
      "metadata": {
        "source_hash": null,
        "execution_start": 1715677837472,
        "execution_millis": 70,
        "deepnote_to_be_reexecuted": false,
        "cell_id": "7fe31a6aba284fc29c477be92bf1521e",
        "deepnote_cell_type": "code"
      },
      "outputs": [],
      "outputs_reference": null,
      "execution_count": null,
      "block_group": "a6dbea5f7ced4ffe8babc83afa1f7ca4",
      "content_dependencies": null
    },
    {
      "cell_type": "code",
      "source": "class Obstacle:\n    \"\"\"obstacle w/ location and radius\"\"\"\n    def __init__(self, x, y, rad):\n        self.pos = (x, y)\n        self.rad = rad\n    \n    def render(self, length = 10, m = 5, name=None, write_dir='./sdfs/'): #TODO: figure out file location\n        \"\"\"func to render in meshcat\"\"\"\n        ixx = m*length**2/12 + m*self.rad**2/4\n        iyy = ixx\n        izz = m*self.rad**2/4\n        half_length = length/2\n        \n        with open('obstacle.sdf', 'r') as c:\n            sdf = c.read()\n        sdf = sdf.replace('REPLACE_MASS', str(m)).replace('REPLACE_IXX', str(ixx)).replace('REPLACE_IYY', str(iyy)).replace('REPLACE_IZZ', str(izz)).replace('REPLACE_RADIUS', str(radius)).replace('REPLACE_LENGTH', str(length)).replace('REPLACE_HALF_LENGTH')\n\n        if name is None:\n            name = 'cylinder_' + str(len(os.listdir(write_dir))) + '.sdf'\n        with open(write_dir+name, 'w') as s:\n            s.write(sdf)\n    \n    ",
      "metadata": {
        "source_hash": null,
        "execution_start": 1715677839153,
        "execution_millis": 12,
        "deepnote_to_be_reexecuted": false,
        "cell_id": "4fe62eac4889451aba377910f999d3bc",
        "deepnote_cell_type": "code"
      },
      "outputs": [],
      "outputs_reference": null,
      "execution_count": null,
      "block_group": "532bc7c3303347108cdbdeaaea44e76a",
      "content_dependencies": null
    },
    {
      "cell_type": "code",
      "source": "class Environment:\n    \"\"\"environment w/ multiple obstacles\"\"\"\n    def __init__(self, goal, N=50):\n        self.obstacles = []\n        self.spot_rad = 0.8 #implement radius from spot CoM to be away from obstacle\n        self.N = N #num_timesteps\n        self.goal = goal\n        \n    def add_obstacle(self, obs):\n        \"\"\"adds obstacle\"\"\"\n        self.obstacles.append(obs)\n    \n    def _euclidean_dist(self, pos1, pos2):\n        x1, y1 = pos1 \n        x2, y2 = pos2\n        return ((x1 - x2)**2 + (y1 - y2)**2)**0.5\n\n    def distance_from(self, point):\n        \"\"\"calculates distance of given point from nearest obstacle\"\"\"\n        if not self.obstacles:\n            return np.inf\n        \n        distances = [self._euclidean_dist(obs.pos, point) for obs in self.obstacles]\n        return min(distances)  \n\n    ",
      "metadata": {
        "source_hash": null,
        "execution_start": 1715677840944,
        "execution_millis": 134,
        "deepnote_to_be_reexecuted": false,
        "cell_id": "dead3995b4994d579e67038dc4f45157",
        "deepnote_cell_type": "code"
      },
      "outputs": [],
      "outputs_reference": null,
      "execution_count": null,
      "block_group": "a41a31815b574f7ea7ef8ca3f0f49c48",
      "content_dependencies": null
    },
    {
      "cell_type": "code",
      "source": "#visualization helpers\n\ndef plot_circle(center, radius, *args, **kwargs):\n    \"\"\"taken from orbital transfer notebook\"\"\"\n    # discretize angle\n    angle = np.linspace(0, 2 * np.pi)\n\n    # plot circle\n    plt.plot(\n        center[0] + radius * np.cos(angle),\n        center[1] + radius * np.sin(angle),\n        *args,\n        **kwargs\n    )\n\ndef plot_env(env):\n    for obs in env.obstacles:\n        plt.scatter(*obs.pos, s=10, c='red')\n        \n        plot_circle(obs.pos, obs.rad, color = 'red', linestyle='--', linewidth = 0.5)\n        plot_circle(obs.pos, obs.rad + env.spot_rad, color='blue', linestyle='--', linewidth = 0.5)\n    plt.scatter(*env.goal, s=50, c='purple')\n    plt.scatter(0, 0, s=50, c='purple')\n    plt.grid(True)\n    plt.gca().set_aspect(\"equal\")\n    ax = plt.gca()\n    ax.set_xlim([0, 30])\n    ax.set_ylim([-15, 15])\n\ndef plot_trajectory(trajectory):\n    plt.plot(trajectory.T[0], trajectory.T[1], color=\"k\", label=\"Rocket trajectory\")\n    plt.scatter(trajectory[0, 0], trajectory[0, 1], color=\"k\")\n",
      "metadata": {
        "source_hash": null,
        "execution_start": 1715677842308,
        "execution_millis": 105,
        "deepnote_to_be_reexecuted": false,
        "cell_id": "47c74cf9c1424ee7bd8f49a7980d40a2",
        "deepnote_cell_type": "code"
      },
      "outputs": [],
      "outputs_reference": null,
      "execution_count": null,
      "block_group": "e81b7cbdc3844ea9982863758990694d",
      "content_dependencies": null
    },
    {
      "cell_type": "code",
      "source": "#add obstacles\nobs1 = Obstacle(12, 3, 2)\nobs2 = Obstacle(0, -10, 2)\nobs3 = Obstacle(10, -15, 2)\nobs4 = Obstacle(20, -8, 4)\nobs5 = Obstacle(30, 10, 3)\nenv = Environment((30, 0), N=150)\nenv.add_obstacle(obs1)\nenv.add_obstacle(obs2)\nenv.add_obstacle(obs3)\nenv.add_obstacle(obs4)\nenv.add_obstacle(obs5)\nplot_env(env)\nplt.figure()",
      "metadata": {
        "source_hash": null,
        "execution_start": 1715680302644,
        "execution_millis": 304,
        "deepnote_to_be_reexecuted": false,
        "cell_id": "62f3ba0f682b4edba5091e6b804aed11",
        "deepnote_cell_type": "code"
      },
      "outputs": [],
      "outputs_reference": null,
      "execution_count": null,
      "block_group": "9d1c88fc6046478a9912cbcc288c953b",
      "content_dependencies": null
    },
    {
      "cell_type": "code",
      "source": "class Position:\n    def __init__(self, x_ll, y_ll):\n        \"\"\"lower left coordinates of a 5x5 tile\"\"\"\n        self.x = x_ll\n        self.y = y_ll\n        self.center = (x_ll, y_ll)\n        self.width = 3\n        self.height = 3\n        c2br = np.array([self.width, -self.height]) / 2\n        c2tr = np.array([self.width, self.height]) / 2\n        self.top_right = self.center + c2tr\n        self.bottom_right = self.center + c2br\n        self.top_left = self.center - c2br\n        self.bottom_left = self.center - c2tr\n        self.A = np.array([[1, 0], [0, 1], [-1, 0], [0, -1]])\n        self.b = np.concatenate([c2tr] * 2) + self.A.dot(self.center)\n        self.name = f\"({int(self.x-1.5)},{int(self.y-1.5)})\"\n",
      "metadata": {
        "source_hash": null,
        "execution_start": 1715681414914,
        "execution_millis": 88,
        "deepnote_to_be_reexecuted": false,
        "cell_id": "4f723aa9295c4c0088ce17ca49ca320f",
        "deepnote_cell_type": "code"
      },
      "outputs": [],
      "outputs_reference": null,
      "execution_count": null,
      "block_group": "139270697292421a94dc5decaf21cc61",
      "content_dependencies": null
    },
    {
      "cell_type": "code",
      "source": "def get_loc_from_name(name):\n    split_pos = name.split(',')\n    x_i = int(split_pos[0][1:])\n    y_i = int(split_pos[1][:-1])\n    return x_i, y_i\n\n#gcs definition\nforward = 1\nturn = 2\nG = GraphOfConvexSets()\nV = []\n#add nodes \npositions = []\nfor x in range(0, 30, 3):\n    for y in range(-15, 15, 3):\n        positions.append(Position(x+1.5, y+1.5))\n    \nfor pos in positions:\n    tile = HPolyhedron(pos.A, pos.b)\n    V.append(G.AddVertex(tile, pos.name))\n\nE = []\n#add edges\nfor pos in V:\n    x_i, y_i = get_loc_from_name(pos.name())\n    possible_coords = set([(x_i, y_i), \n                        (min(27, x_i + 3), y_i),\n                        (min(27, x_i + 3),min(y_i + 3, 12)),\n                        (min(27, x_i + 3), max(y_i - 3, -15)),\n                        (x_i, min(y_i + 3, 12)),\n                        (x_i, max(y_i - 3, -15))])\n    for vert in V:\n        x, y = get_loc_from_name(vert.name())\n        if (x, y) == (x_i, y_i):\n            #add stop gait\n            #stop_gait = stop(...)\n            #e = G.AddEdge(pos, f\"({x},{y})\", stop(...))\n            e = G.AddEdge(pos, vert, name=f\"stop_({x},{y})\")\n            e.AddCost(1)\n            E.append(e)\n        elif (x, y) in possible_coords:\n            #add forward and turn edges\n            forward_cost = (x-x_i)**2 + (y - y_i)**2\n            turn_cost = 2*forward_cost\n            for gait in [forward, turn]:\n                #gait_move = gait(...)\n                #e = G.AddEdge(pos, f\"({x},{y})\", gait)\n                if gait==forward:\n                    e = G.AddEdge(pos, vert, name=f\"forward_({x_i},{y_i})\")\n                    e.AddCost(forward_cost)\n                else:\n                    e = G.AddEdge(pos, vert, name=f\"turn_({x_i},{y_i})\")\n                    e.AddCost(turn_cost)\n                E.append(e)",
      "metadata": {
        "source_hash": null,
        "execution_start": 1715681416394,
        "execution_millis": 53,
        "deepnote_to_be_reexecuted": false,
        "cell_id": "6d3563992bc84e669897e15654d4ea47",
        "deepnote_cell_type": "code"
      },
      "outputs": [],
      "outputs_reference": null,
      "execution_count": null,
      "block_group": "bf7ca50f40b3423da09920272f202f4d",
      "content_dependencies": null
    },
    {
      "cell_type": "code",
      "source": "#solve GCS\noptions = GraphOfConvexSetsOptions()\noptions.preprocessing = True\noptions.max_rounded_paths = 10\noptions.solver = ClarabelSolver()\noptions.convex_relaxation = True\n\nprint(V[5].name())\nprint(V[-5].name())\nresult = G.SolveShortestPath(V[5], V[-5], options)",
      "metadata": {
        "source_hash": null,
        "execution_start": 1715681579108,
        "execution_millis": 114,
        "deepnote_to_be_reexecuted": false,
        "cell_id": "0521478ed6224b47a836a3499583509f",
        "deepnote_cell_type": "code"
      },
      "outputs": [],
      "outputs_reference": null,
      "execution_count": null,
      "block_group": "2e31574390c64008bc505cbb51eb0671",
      "content_dependencies": null
    },
    {
      "cell_type": "code",
      "source": "def extract_path(V, E, result):\n    V_dict = {}\n    for i, v in enumerate(V):\n        V_dict[v.name()] = i\n    V_adj = np.zeros((len(V), len(V)))\n    yes_es = {}\n    for e in E:\n        if result.GetSolution(e.phi()):\n            e_split = e.name().split('_')\n            yes_es[e_split[1]] = e_split[0]\n            u_index = V_dict[e.u().name()]\n            v_index = V_dict[e.v().name()]\n            V_adj[u_index, v_index] = 1\n    path = [\"(0,0)\"]\n    path_count = 0\n    while path[-1] != \"(27,0)\":\n        u_name = path[-1]\n        v_index = np.where(V_adj[V_dict[u_name], :] == 1)[0][0]\n        path.append(V[v_index].name())\n        path_count = path_count + 1\n        if path_count > 100:\n            print(\"Abort path extraction: possible loops\")\n            break\n    edge_types  = []\n    for p in path[:-1]:\n        edge_types.append(yes_es[p])\n    return path, edge_types",
      "metadata": {
        "source_hash": null,
        "execution_start": 1715681583672,
        "execution_millis": 28,
        "deepnote_to_be_reexecuted": false,
        "cell_id": "d0ec1218b31d4a4a8b6f77f9d2592eb8",
        "deepnote_cell_type": "code"
      },
      "outputs": [],
      "outputs_reference": null,
      "execution_count": null,
      "block_group": "01a976bdb8194083b62110786c802f07",
      "content_dependencies": null
    },
    {
      "cell_type": "code",
      "source": "path, edge = extract_path(V, E, result)\nprint(path)\nprint(edges)",
      "metadata": {
        "source_hash": null,
        "execution_start": 1715681585855,
        "execution_millis": 216,
        "deepnote_to_be_reexecuted": false,
        "cell_id": "7afeaa55bd2a47af8395c3bf8dfca6aa",
        "deepnote_cell_type": "code"
      },
      "outputs": [],
      "outputs_reference": null,
      "execution_count": null,
      "block_group": "e928d77b30aa4bf9851877068451065a",
      "content_dependencies": null
    },
    {
      "cell_type": "markdown",
      "source": "<a style='text-decoration:none;line-height:16px;display:flex;color:#5B5B62;padding:10px;justify-content:end;' href='https://deepnote.com?utm_source=created-in-deepnote-cell&projectId=545d651b-e7e0-4cf4-bfbe-97d6a3f869f8' target=\"_blank\">\n<img alt='Created in deepnote.com' style='display:inline;max-height:16px;margin:0px;margin-right:7.5px;' src='data:image/svg+xml;base64,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' > </img>\nCreated in <span style='font-weight:600;margin-left:4px;'>Deepnote</span></a>",
      "metadata": {
        "created_in_deepnote_cell": true,
        "deepnote_cell_type": "markdown"
      }
    }
  ],
  "nbformat": 4,
  "nbformat_minor": 0,
  "metadata": {
    "deepnote_notebook_id": "94981c4589b1458a85f56e09c9583b2f",
    "deepnote_execution_queue": []
  }
}